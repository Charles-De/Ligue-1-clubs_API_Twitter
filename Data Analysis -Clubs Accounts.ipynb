{
 "cells": [
  {
   "cell_type": "markdown",
   "metadata": {},
   "source": [
    "Import des librairies"
   ]
  },
  {
   "cell_type": "code",
   "execution_count": 3,
   "metadata": {},
   "outputs": [],
   "source": [
    "import pandas as pd\n",
    "from matplotlib.pyplot import *\n",
    "\n",
    "import scipy.signal\n",
    "\n",
    "import numpy"
   ]
  },
  {
   "cell_type": "markdown",
   "metadata": {},
   "source": [
    "Lecture du fichier"
   ]
  },
  {
   "cell_type": "code",
   "execution_count": 4,
   "metadata": {},
   "outputs": [
    {
     "data": {
      "text/html": [
       "<div>\n",
       "<style scoped>\n",
       "    .dataframe tbody tr th:only-of-type {\n",
       "        vertical-align: middle;\n",
       "    }\n",
       "\n",
       "    .dataframe tbody tr th {\n",
       "        vertical-align: top;\n",
       "    }\n",
       "\n",
       "    .dataframe thead th {\n",
       "        text-align: right;\n",
       "    }\n",
       "</style>\n",
       "<table border=\"1\" class=\"dataframe\">\n",
       "  <thead>\n",
       "    <tr style=\"text-align: right;\">\n",
       "      <th></th>\n",
       "      <th>time_slots</th>\n",
       "      <th>ASSEofficiel</th>\n",
       "      <th>OL</th>\n",
       "      <th>ClermontFoot</th>\n",
       "      <th>MontpellierHSC</th>\n",
       "      <th>OM_Officiel</th>\n",
       "      <th>ogcnice</th>\n",
       "      <th>AS_Monaco</th>\n",
       "      <th>estac_officiel</th>\n",
       "      <th>girondins</th>\n",
       "      <th>...</th>\n",
       "      <th>StadeDeReims</th>\n",
       "      <th>FCMetz</th>\n",
       "      <th>RCSA</th>\n",
       "      <th>AngersSCO</th>\n",
       "      <th>FCNantes</th>\n",
       "      <th>staderennais</th>\n",
       "      <th>RCLens</th>\n",
       "      <th>losclive</th>\n",
       "      <th>FCLorient</th>\n",
       "      <th>SB29</th>\n",
       "    </tr>\n",
       "  </thead>\n",
       "  <tbody>\n",
       "    <tr>\n",
       "      <th>0</th>\n",
       "      <td>2022-01-30T12:00:00.000Z</td>\n",
       "      <td>45</td>\n",
       "      <td>372</td>\n",
       "      <td>1</td>\n",
       "      <td>27</td>\n",
       "      <td>331</td>\n",
       "      <td>23</td>\n",
       "      <td>60</td>\n",
       "      <td>16</td>\n",
       "      <td>578</td>\n",
       "      <td>...</td>\n",
       "      <td>7</td>\n",
       "      <td>1</td>\n",
       "      <td>10</td>\n",
       "      <td>1</td>\n",
       "      <td>6</td>\n",
       "      <td>15</td>\n",
       "      <td>39</td>\n",
       "      <td>11</td>\n",
       "      <td>14</td>\n",
       "      <td>14</td>\n",
       "    </tr>\n",
       "    <tr>\n",
       "      <th>1</th>\n",
       "      <td>2022-01-30T13:00:00.000Z</td>\n",
       "      <td>61</td>\n",
       "      <td>233</td>\n",
       "      <td>1</td>\n",
       "      <td>50</td>\n",
       "      <td>336</td>\n",
       "      <td>31</td>\n",
       "      <td>57</td>\n",
       "      <td>8</td>\n",
       "      <td>349</td>\n",
       "      <td>...</td>\n",
       "      <td>20</td>\n",
       "      <td>1</td>\n",
       "      <td>15</td>\n",
       "      <td>13</td>\n",
       "      <td>8</td>\n",
       "      <td>4</td>\n",
       "      <td>21</td>\n",
       "      <td>26</td>\n",
       "      <td>9</td>\n",
       "      <td>23</td>\n",
       "    </tr>\n",
       "    <tr>\n",
       "      <th>2</th>\n",
       "      <td>2022-01-30T14:00:00.000Z</td>\n",
       "      <td>47</td>\n",
       "      <td>338</td>\n",
       "      <td>1</td>\n",
       "      <td>26</td>\n",
       "      <td>283</td>\n",
       "      <td>14</td>\n",
       "      <td>22</td>\n",
       "      <td>4</td>\n",
       "      <td>187</td>\n",
       "      <td>...</td>\n",
       "      <td>6</td>\n",
       "      <td>1</td>\n",
       "      <td>11</td>\n",
       "      <td>16</td>\n",
       "      <td>1</td>\n",
       "      <td>21</td>\n",
       "      <td>8</td>\n",
       "      <td>28</td>\n",
       "      <td>2</td>\n",
       "      <td>14</td>\n",
       "    </tr>\n",
       "    <tr>\n",
       "      <th>3</th>\n",
       "      <td>2022-01-30T15:00:00.000Z</td>\n",
       "      <td>58</td>\n",
       "      <td>469</td>\n",
       "      <td>1</td>\n",
       "      <td>35</td>\n",
       "      <td>171</td>\n",
       "      <td>20</td>\n",
       "      <td>34</td>\n",
       "      <td>14</td>\n",
       "      <td>138</td>\n",
       "      <td>...</td>\n",
       "      <td>6</td>\n",
       "      <td>2</td>\n",
       "      <td>40</td>\n",
       "      <td>59</td>\n",
       "      <td>5</td>\n",
       "      <td>13</td>\n",
       "      <td>11</td>\n",
       "      <td>2</td>\n",
       "      <td>28</td>\n",
       "      <td>23</td>\n",
       "    </tr>\n",
       "    <tr>\n",
       "      <th>4</th>\n",
       "      <td>2022-01-30T16:00:00.000Z</td>\n",
       "      <td>191</td>\n",
       "      <td>3513</td>\n",
       "      <td>6</td>\n",
       "      <td>40</td>\n",
       "      <td>168</td>\n",
       "      <td>13</td>\n",
       "      <td>36</td>\n",
       "      <td>36</td>\n",
       "      <td>76</td>\n",
       "      <td>...</td>\n",
       "      <td>6</td>\n",
       "      <td>27</td>\n",
       "      <td>30</td>\n",
       "      <td>12</td>\n",
       "      <td>6</td>\n",
       "      <td>10</td>\n",
       "      <td>13</td>\n",
       "      <td>11</td>\n",
       "      <td>30</td>\n",
       "      <td>14</td>\n",
       "    </tr>\n",
       "    <tr>\n",
       "      <th>...</th>\n",
       "      <td>...</td>\n",
       "      <td>...</td>\n",
       "      <td>...</td>\n",
       "      <td>...</td>\n",
       "      <td>...</td>\n",
       "      <td>...</td>\n",
       "      <td>...</td>\n",
       "      <td>...</td>\n",
       "      <td>...</td>\n",
       "      <td>...</td>\n",
       "      <td>...</td>\n",
       "      <td>...</td>\n",
       "      <td>...</td>\n",
       "      <td>...</td>\n",
       "      <td>...</td>\n",
       "      <td>...</td>\n",
       "      <td>...</td>\n",
       "      <td>...</td>\n",
       "      <td>...</td>\n",
       "      <td>...</td>\n",
       "      <td>...</td>\n",
       "    </tr>\n",
       "    <tr>\n",
       "      <th>1003</th>\n",
       "      <td>2022-03-16T14:00:00.000Z</td>\n",
       "      <td>24</td>\n",
       "      <td>219</td>\n",
       "      <td>1</td>\n",
       "      <td>6</td>\n",
       "      <td>99</td>\n",
       "      <td>7</td>\n",
       "      <td>25</td>\n",
       "      <td>1</td>\n",
       "      <td>53</td>\n",
       "      <td>...</td>\n",
       "      <td>4</td>\n",
       "      <td>11</td>\n",
       "      <td>12</td>\n",
       "      <td>1</td>\n",
       "      <td>22</td>\n",
       "      <td>39</td>\n",
       "      <td>14</td>\n",
       "      <td>130</td>\n",
       "      <td>9</td>\n",
       "      <td>1</td>\n",
       "    </tr>\n",
       "    <tr>\n",
       "      <th>1004</th>\n",
       "      <td>2022-03-16T15:00:00.000Z</td>\n",
       "      <td>18</td>\n",
       "      <td>143</td>\n",
       "      <td>0</td>\n",
       "      <td>22</td>\n",
       "      <td>315</td>\n",
       "      <td>15</td>\n",
       "      <td>23</td>\n",
       "      <td>4</td>\n",
       "      <td>91</td>\n",
       "      <td>...</td>\n",
       "      <td>4</td>\n",
       "      <td>2</td>\n",
       "      <td>2</td>\n",
       "      <td>15</td>\n",
       "      <td>8</td>\n",
       "      <td>55</td>\n",
       "      <td>10</td>\n",
       "      <td>126</td>\n",
       "      <td>3</td>\n",
       "      <td>1</td>\n",
       "    </tr>\n",
       "    <tr>\n",
       "      <th>1005</th>\n",
       "      <td>2022-03-16T16:00:00.000Z</td>\n",
       "      <td>13</td>\n",
       "      <td>222</td>\n",
       "      <td>2</td>\n",
       "      <td>15</td>\n",
       "      <td>302</td>\n",
       "      <td>20</td>\n",
       "      <td>38</td>\n",
       "      <td>5</td>\n",
       "      <td>38</td>\n",
       "      <td>...</td>\n",
       "      <td>103</td>\n",
       "      <td>7</td>\n",
       "      <td>8</td>\n",
       "      <td>3</td>\n",
       "      <td>10</td>\n",
       "      <td>59</td>\n",
       "      <td>12</td>\n",
       "      <td>111</td>\n",
       "      <td>22</td>\n",
       "      <td>4</td>\n",
       "    </tr>\n",
       "    <tr>\n",
       "      <th>1006</th>\n",
       "      <td>2022-03-16T17:00:00.000Z</td>\n",
       "      <td>17</td>\n",
       "      <td>239</td>\n",
       "      <td>2</td>\n",
       "      <td>7</td>\n",
       "      <td>182</td>\n",
       "      <td>10</td>\n",
       "      <td>63</td>\n",
       "      <td>5</td>\n",
       "      <td>79</td>\n",
       "      <td>...</td>\n",
       "      <td>60</td>\n",
       "      <td>3</td>\n",
       "      <td>11</td>\n",
       "      <td>2</td>\n",
       "      <td>10</td>\n",
       "      <td>113</td>\n",
       "      <td>12</td>\n",
       "      <td>669</td>\n",
       "      <td>16</td>\n",
       "      <td>5</td>\n",
       "    </tr>\n",
       "    <tr>\n",
       "      <th>1007</th>\n",
       "      <td>2022-03-16T18:00:00.000Z</td>\n",
       "      <td>17</td>\n",
       "      <td>221</td>\n",
       "      <td>0</td>\n",
       "      <td>6</td>\n",
       "      <td>152</td>\n",
       "      <td>8</td>\n",
       "      <td>64</td>\n",
       "      <td>4</td>\n",
       "      <td>66</td>\n",
       "      <td>...</td>\n",
       "      <td>26</td>\n",
       "      <td>3</td>\n",
       "      <td>6</td>\n",
       "      <td>2</td>\n",
       "      <td>7</td>\n",
       "      <td>106</td>\n",
       "      <td>5</td>\n",
       "      <td>704</td>\n",
       "      <td>9</td>\n",
       "      <td>3</td>\n",
       "    </tr>\n",
       "  </tbody>\n",
       "</table>\n",
       "<p>1008 rows × 21 columns</p>\n",
       "</div>"
      ],
      "text/plain": [
       "                    time_slots  ASSEofficiel    OL  ClermontFoot  \\\n",
       "0     2022-01-30T12:00:00.000Z            45   372             1   \n",
       "1     2022-01-30T13:00:00.000Z            61   233             1   \n",
       "2     2022-01-30T14:00:00.000Z            47   338             1   \n",
       "3     2022-01-30T15:00:00.000Z            58   469             1   \n",
       "4     2022-01-30T16:00:00.000Z           191  3513             6   \n",
       "...                        ...           ...   ...           ...   \n",
       "1003  2022-03-16T14:00:00.000Z            24   219             1   \n",
       "1004  2022-03-16T15:00:00.000Z            18   143             0   \n",
       "1005  2022-03-16T16:00:00.000Z            13   222             2   \n",
       "1006  2022-03-16T17:00:00.000Z            17   239             2   \n",
       "1007  2022-03-16T18:00:00.000Z            17   221             0   \n",
       "\n",
       "      MontpellierHSC  OM_Officiel  ogcnice  AS_Monaco  estac_officiel  \\\n",
       "0                 27          331       23         60              16   \n",
       "1                 50          336       31         57               8   \n",
       "2                 26          283       14         22               4   \n",
       "3                 35          171       20         34              14   \n",
       "4                 40          168       13         36              36   \n",
       "...              ...          ...      ...        ...             ...   \n",
       "1003               6           99        7         25               1   \n",
       "1004              22          315       15         23               4   \n",
       "1005              15          302       20         38               5   \n",
       "1006               7          182       10         63               5   \n",
       "1007               6          152        8         64               4   \n",
       "\n",
       "      girondins  ...  StadeDeReims  FCMetz  RCSA  AngersSCO  FCNantes  \\\n",
       "0           578  ...             7       1    10          1         6   \n",
       "1           349  ...            20       1    15         13         8   \n",
       "2           187  ...             6       1    11         16         1   \n",
       "3           138  ...             6       2    40         59         5   \n",
       "4            76  ...             6      27    30         12         6   \n",
       "...         ...  ...           ...     ...   ...        ...       ...   \n",
       "1003         53  ...             4      11    12          1        22   \n",
       "1004         91  ...             4       2     2         15         8   \n",
       "1005         38  ...           103       7     8          3        10   \n",
       "1006         79  ...            60       3    11          2        10   \n",
       "1007         66  ...            26       3     6          2         7   \n",
       "\n",
       "      staderennais  RCLens  losclive  FCLorient  SB29  \n",
       "0               15      39        11         14    14  \n",
       "1                4      21        26          9    23  \n",
       "2               21       8        28          2    14  \n",
       "3               13      11         2         28    23  \n",
       "4               10      13        11         30    14  \n",
       "...            ...     ...       ...        ...   ...  \n",
       "1003            39      14       130          9     1  \n",
       "1004            55      10       126          3     1  \n",
       "1005            59      12       111         22     4  \n",
       "1006           113      12       669         16     5  \n",
       "1007           106       5       704          9     3  \n",
       "\n",
       "[1008 rows x 21 columns]"
      ]
     },
     "execution_count": 4,
     "metadata": {},
     "output_type": "execute_result"
    }
   ],
   "source": [
    "data = pd.read_csv(\"result_number_accounts_hour.csv\", delimiter =',')\n",
    "data"
   ]
  },
  {
   "cell_type": "markdown",
   "metadata": {},
   "source": [
    "Parse la date pour pouvoir l'utiliser par la suite, dans une autre colonne"
   ]
  },
  {
   "cell_type": "code",
   "execution_count": 3,
   "metadata": {},
   "outputs": [],
   "source": [
    "b = data.iloc[:, 0] #reading from column 0\n",
    "a = pd.to_datetime(b, format='%Y-%m-%dT%H:%M:%S.%fZ', errors='ignore')\n",
    "data['time'] = a"
   ]
  },
  {
   "cell_type": "markdown",
   "metadata": {},
   "source": [
    "Fonction pour afficher le résultat"
   ]
  },
  {
   "cell_type": "code",
   "execution_count": 4,
   "metadata": {},
   "outputs": [],
   "source": [
    "def plot_df(x, y, xlabel='Date', ylabel='Value', dpi=100):\n",
    "    figure(figsize=(16,5), dpi=dpi)\n",
    "    plot(x, y)\n",
    "    gca().set(xlabel=xlabel, ylabel=ylabel)"
   ]
  },
  {
   "cell_type": "markdown",
   "metadata": {},
   "source": [
    "Liste des noms des comptes Twitter de chaque club"
   ]
  },
  {
   "cell_type": "code",
   "execution_count": 5,
   "metadata": {},
   "outputs": [
    {
     "data": {
      "text/plain": [
       "['ASSEofficiel',\n",
       " 'OL',\n",
       " 'ClermontFoot',\n",
       " 'MontpellierHSC',\n",
       " 'OM_Officiel',\n",
       " 'ogcnice',\n",
       " 'AS_Monaco',\n",
       " 'estac_officiel',\n",
       " 'girondins',\n",
       " 'psg_inside',\n",
       " 'StadeDeReims',\n",
       " 'FCMetz',\n",
       " 'RCSA',\n",
       " 'AngersSCO',\n",
       " 'FCNantes',\n",
       " 'staderennais',\n",
       " 'RCLens',\n",
       " 'losclive',\n",
       " 'FCLorient',\n",
       " 'SB29']"
      ]
     },
     "execution_count": 5,
     "metadata": {},
     "output_type": "execute_result"
    }
   ],
   "source": [
    "list_clubs = list(data.columns[1:-1]) \n",
    "list_clubs"
   ]
  },
  {
   "cell_type": "code",
   "execution_count": 6,
   "metadata": {},
   "outputs": [
    {
     "data": {
      "image/png": "[encoded data removed]",
      "text/plain": [
       "<Figure size 1440x360 with 1 Axes>"
      ]
     },
     "metadata": {
      "needs_background": "light"
     },
     "output_type": "display_data"
    }
   ],
   "source": [
    "data.plot(x = 'time', y = list_clubs, xlabel='Date', ylabel='Value', figsize=(20,5))\n",
    "show()"
   ]
  },
  {
   "cell_type": "markdown",
   "metadata": {},
   "source": [
    "On voit qu'il y a des pics fréquents pour chaque club. (L'anomalie entre le 10 et 13 février est dû au fait que les données n'ont pas pu extraites, il manque les données de ces dates)."
   ]
  },
  {
   "cell_type": "markdown",
   "metadata": {},
   "source": [
    "On peut également regarder la répartition du nombre de tweets, pour un club donné, et voir que celui-ci suit une semi-gaussienne."
   ]
  },
  {
   "cell_type": "code",
   "execution_count": 5,
   "metadata": {},
   "outputs": [
    {
     "data": {
      "text/plain": [
       "<AxesSubplot:>"
      ]
     },
     "execution_count": 5,
     "metadata": {},
     "output_type": "execute_result"
    },
    {
     "data": {
      "image/png": "[encoded data removed]",
      "text/plain": [
       "<Figure size 1440x720 with 1 Axes>"
      ]
     },
     "metadata": {
      "needs_background": "light"
     },
     "output_type": "display_data"
    }
   ],
   "source": [
    "data['ogcnice'].value_counts().sort_index(ascending=True).plot(kind='bar', figsize = (20,10))"
   ]
  },
  {
   "cell_type": "markdown",
   "metadata": {},
   "source": [
    "Données statistiques pour chaque club"
   ]
  },
  {
   "cell_type": "code",
   "execution_count": 7,
   "metadata": {},
   "outputs": [
    {
     "data": {
      "text/html": [
       "<div>\n",
       "<style scoped>\n",
       "    .dataframe tbody tr th:only-of-type {\n",
       "        vertical-align: middle;\n",
       "    }\n",
       "\n",
       "    .dataframe tbody tr th {\n",
       "        vertical-align: top;\n",
       "    }\n",
       "\n",
       "    .dataframe thead th {\n",
       "        text-align: right;\n",
       "    }\n",
       "</style>\n",
       "<table border=\"1\" class=\"dataframe\">\n",
       "  <thead>\n",
       "    <tr style=\"text-align: right;\">\n",
       "      <th></th>\n",
       "      <th>ASSEofficiel</th>\n",
       "      <th>OL</th>\n",
       "      <th>ClermontFoot</th>\n",
       "      <th>MontpellierHSC</th>\n",
       "      <th>OM_Officiel</th>\n",
       "      <th>ogcnice</th>\n",
       "      <th>AS_Monaco</th>\n",
       "      <th>estac_officiel</th>\n",
       "      <th>girondins</th>\n",
       "      <th>psg_inside</th>\n",
       "      <th>StadeDeReims</th>\n",
       "      <th>FCMetz</th>\n",
       "      <th>RCSA</th>\n",
       "      <th>AngersSCO</th>\n",
       "      <th>FCNantes</th>\n",
       "      <th>staderennais</th>\n",
       "      <th>RCLens</th>\n",
       "      <th>losclive</th>\n",
       "      <th>FCLorient</th>\n",
       "      <th>SB29</th>\n",
       "    </tr>\n",
       "  </thead>\n",
       "  <tbody>\n",
       "    <tr>\n",
       "      <th>count</th>\n",
       "      <td>1008.000000</td>\n",
       "      <td>1008.000000</td>\n",
       "      <td>1008.000000</td>\n",
       "      <td>1008.000000</td>\n",
       "      <td>1008.000000</td>\n",
       "      <td>1008.000000</td>\n",
       "      <td>1008.000000</td>\n",
       "      <td>1008.000000</td>\n",
       "      <td>1008.000000</td>\n",
       "      <td>1008.000000</td>\n",
       "      <td>1008.000000</td>\n",
       "      <td>1008.000000</td>\n",
       "      <td>1008.000000</td>\n",
       "      <td>1008.000000</td>\n",
       "      <td>1008.000000</td>\n",
       "      <td>1008.000000</td>\n",
       "      <td>1008.000000</td>\n",
       "      <td>1008.000000</td>\n",
       "      <td>1008.000000</td>\n",
       "      <td>1008.000000</td>\n",
       "    </tr>\n",
       "    <tr>\n",
       "      <th>mean</th>\n",
       "      <td>49.606151</td>\n",
       "      <td>177.155754</td>\n",
       "      <td>12.525794</td>\n",
       "      <td>12.407738</td>\n",
       "      <td>216.475198</td>\n",
       "      <td>45.717262</td>\n",
       "      <td>45.245040</td>\n",
       "      <td>9.865079</td>\n",
       "      <td>69.627976</td>\n",
       "      <td>420.170635</td>\n",
       "      <td>12.737103</td>\n",
       "      <td>19.818452</td>\n",
       "      <td>19.252976</td>\n",
       "      <td>9.570437</td>\n",
       "      <td>33.207341</td>\n",
       "      <td>34.582341</td>\n",
       "      <td>24.534722</td>\n",
       "      <td>48.962302</td>\n",
       "      <td>10.122024</td>\n",
       "      <td>48.589286</td>\n",
       "    </tr>\n",
       "    <tr>\n",
       "      <th>std</th>\n",
       "      <td>115.116420</td>\n",
       "      <td>472.474582</td>\n",
       "      <td>57.799995</td>\n",
       "      <td>23.646801</td>\n",
       "      <td>414.308727</td>\n",
       "      <td>114.962290</td>\n",
       "      <td>89.836155</td>\n",
       "      <td>24.469985</td>\n",
       "      <td>160.378919</td>\n",
       "      <td>1100.617103</td>\n",
       "      <td>30.264234</td>\n",
       "      <td>43.826368</td>\n",
       "      <td>36.484390</td>\n",
       "      <td>31.513604</td>\n",
       "      <td>123.067608</td>\n",
       "      <td>69.753952</td>\n",
       "      <td>55.357830</td>\n",
       "      <td>116.838657</td>\n",
       "      <td>28.615139</td>\n",
       "      <td>212.535626</td>\n",
       "    </tr>\n",
       "    <tr>\n",
       "      <th>min</th>\n",
       "      <td>0.000000</td>\n",
       "      <td>0.000000</td>\n",
       "      <td>0.000000</td>\n",
       "      <td>0.000000</td>\n",
       "      <td>2.000000</td>\n",
       "      <td>0.000000</td>\n",
       "      <td>0.000000</td>\n",
       "      <td>0.000000</td>\n",
       "      <td>0.000000</td>\n",
       "      <td>5.000000</td>\n",
       "      <td>0.000000</td>\n",
       "      <td>0.000000</td>\n",
       "      <td>0.000000</td>\n",
       "      <td>0.000000</td>\n",
       "      <td>0.000000</td>\n",
       "      <td>0.000000</td>\n",
       "      <td>0.000000</td>\n",
       "      <td>0.000000</td>\n",
       "      <td>0.000000</td>\n",
       "      <td>0.000000</td>\n",
       "    </tr>\n",
       "    <tr>\n",
       "      <th>25%</th>\n",
       "      <td>7.000000</td>\n",
       "      <td>26.000000</td>\n",
       "      <td>1.000000</td>\n",
       "      <td>2.000000</td>\n",
       "      <td>53.000000</td>\n",
       "      <td>5.000000</td>\n",
       "      <td>9.000000</td>\n",
       "      <td>1.000000</td>\n",
       "      <td>12.000000</td>\n",
       "      <td>81.000000</td>\n",
       "      <td>1.000000</td>\n",
       "      <td>3.000000</td>\n",
       "      <td>3.000000</td>\n",
       "      <td>0.000000</td>\n",
       "      <td>3.000000</td>\n",
       "      <td>4.000000</td>\n",
       "      <td>3.000000</td>\n",
       "      <td>6.000000</td>\n",
       "      <td>1.000000</td>\n",
       "      <td>2.000000</td>\n",
       "    </tr>\n",
       "    <tr>\n",
       "      <th>50%</th>\n",
       "      <td>22.000000</td>\n",
       "      <td>69.000000</td>\n",
       "      <td>3.000000</td>\n",
       "      <td>6.000000</td>\n",
       "      <td>116.000000</td>\n",
       "      <td>18.000000</td>\n",
       "      <td>24.000000</td>\n",
       "      <td>3.000000</td>\n",
       "      <td>31.000000</td>\n",
       "      <td>186.500000</td>\n",
       "      <td>6.000000</td>\n",
       "      <td>9.000000</td>\n",
       "      <td>8.000000</td>\n",
       "      <td>3.000000</td>\n",
       "      <td>10.000000</td>\n",
       "      <td>16.000000</td>\n",
       "      <td>10.000000</td>\n",
       "      <td>19.000000</td>\n",
       "      <td>3.000000</td>\n",
       "      <td>9.000000</td>\n",
       "    </tr>\n",
       "    <tr>\n",
       "      <th>75%</th>\n",
       "      <td>50.000000</td>\n",
       "      <td>152.000000</td>\n",
       "      <td>9.000000</td>\n",
       "      <td>14.000000</td>\n",
       "      <td>211.000000</td>\n",
       "      <td>43.000000</td>\n",
       "      <td>46.000000</td>\n",
       "      <td>9.000000</td>\n",
       "      <td>67.000000</td>\n",
       "      <td>381.500000</td>\n",
       "      <td>13.000000</td>\n",
       "      <td>20.000000</td>\n",
       "      <td>20.000000</td>\n",
       "      <td>8.000000</td>\n",
       "      <td>26.000000</td>\n",
       "      <td>36.000000</td>\n",
       "      <td>25.000000</td>\n",
       "      <td>44.000000</td>\n",
       "      <td>9.000000</td>\n",
       "      <td>24.000000</td>\n",
       "    </tr>\n",
       "    <tr>\n",
       "      <th>max</th>\n",
       "      <td>1587.000000</td>\n",
       "      <td>7764.000000</td>\n",
       "      <td>1406.000000</td>\n",
       "      <td>301.000000</td>\n",
       "      <td>4991.000000</td>\n",
       "      <td>2119.000000</td>\n",
       "      <td>1067.000000</td>\n",
       "      <td>256.000000</td>\n",
       "      <td>2746.000000</td>\n",
       "      <td>18053.000000</td>\n",
       "      <td>521.000000</td>\n",
       "      <td>715.000000</td>\n",
       "      <td>369.000000</td>\n",
       "      <td>486.000000</td>\n",
       "      <td>2734.000000</td>\n",
       "      <td>750.000000</td>\n",
       "      <td>774.000000</td>\n",
       "      <td>1729.000000</td>\n",
       "      <td>412.000000</td>\n",
       "      <td>5312.000000</td>\n",
       "    </tr>\n",
       "  </tbody>\n",
       "</table>\n",
       "</div>"
      ],
      "text/plain": [
       "       ASSEofficiel           OL  ClermontFoot  MontpellierHSC  OM_Officiel  \\\n",
       "count   1008.000000  1008.000000   1008.000000     1008.000000  1008.000000   \n",
       "mean      49.606151   177.155754     12.525794       12.407738   216.475198   \n",
       "std      115.116420   472.474582     57.799995       23.646801   414.308727   \n",
       "min        0.000000     0.000000      0.000000        0.000000     2.000000   \n",
       "25%        7.000000    26.000000      1.000000        2.000000    53.000000   \n",
       "50%       22.000000    69.000000      3.000000        6.000000   116.000000   \n",
       "75%       50.000000   152.000000      9.000000       14.000000   211.000000   \n",
       "max     1587.000000  7764.000000   1406.000000      301.000000  4991.000000   \n",
       "\n",
       "           ogcnice    AS_Monaco  estac_officiel    girondins    psg_inside  \\\n",
       "count  1008.000000  1008.000000     1008.000000  1008.000000   1008.000000   \n",
       "mean     45.717262    45.245040        9.865079    69.627976    420.170635   \n",
       "std     114.962290    89.836155       24.469985   160.378919   1100.617103   \n",
       "min       0.000000     0.000000        0.000000     0.000000      5.000000   \n",
       "25%       5.000000     9.000000        1.000000    12.000000     81.000000   \n",
       "50%      18.000000    24.000000        3.000000    31.000000    186.500000   \n",
       "75%      43.000000    46.000000        9.000000    67.000000    381.500000   \n",
       "max    2119.000000  1067.000000      256.000000  2746.000000  18053.000000   \n",
       "\n",
       "       StadeDeReims       FCMetz         RCSA    AngersSCO     FCNantes  \\\n",
       "count   1008.000000  1008.000000  1008.000000  1008.000000  1008.000000   \n",
       "mean      12.737103    19.818452    19.252976     9.570437    33.207341   \n",
       "std       30.264234    43.826368    36.484390    31.513604   123.067608   \n",
       "min        0.000000     0.000000     0.000000     0.000000     0.000000   \n",
       "25%        1.000000     3.000000     3.000000     0.000000     3.000000   \n",
       "50%        6.000000     9.000000     8.000000     3.000000    10.000000   \n",
       "75%       13.000000    20.000000    20.000000     8.000000    26.000000   \n",
       "max      521.000000   715.000000   369.000000   486.000000  2734.000000   \n",
       "\n",
       "       staderennais       RCLens     losclive    FCLorient         SB29  \n",
       "count   1008.000000  1008.000000  1008.000000  1008.000000  1008.000000  \n",
       "mean      34.582341    24.534722    48.962302    10.122024    48.589286  \n",
       "std       69.753952    55.357830   116.838657    28.615139   212.535626  \n",
       "min        0.000000     0.000000     0.000000     0.000000     0.000000  \n",
       "25%        4.000000     3.000000     6.000000     1.000000     2.000000  \n",
       "50%       16.000000    10.000000    19.000000     3.000000     9.000000  \n",
       "75%       36.000000    25.000000    44.000000     9.000000    24.000000  \n",
       "max      750.000000   774.000000  1729.000000   412.000000  5312.000000  "
      ]
     },
     "execution_count": 7,
     "metadata": {},
     "output_type": "execute_result"
    }
   ],
   "source": [
    "data.describe()"
   ]
  },
  {
   "cell_type": "markdown",
   "metadata": {},
   "source": [
    "Calcul des donnnées statistiques, dont celle de moyenne + écart-type de chaque club"
   ]
  },
  {
   "cell_type": "code",
   "execution_count": 8,
   "metadata": {},
   "outputs": [
    {
     "name": "stdout",
     "output_type": "stream",
     "text": [
      "moyenne:  [49.60615079365079, 177.15575396825398, 12.52579365079365, 12.407738095238095, 216.4751984126984, 45.717261904761905, 45.245039682539684, 9.865079365079366, 69.62797619047619, 420.17063492063494, 12.737103174603174, 19.81845238095238, 19.25297619047619, 9.570436507936508, 33.20734126984127, 34.58234126984127, 24.53472222222222, 48.96230158730159, 10.12202380952381, 48.589285714285715]\n",
      "\n",
      "3ème quartile:  [50.0, 152.0, 9.0, 14.0, 211.0, 43.0, 46.0, 9.0, 67.0, 381.5, 13.0, 20.0, 20.0, 8.0, 26.0, 36.0, 25.0, 44.0, 9.0, 24.0]\n",
      "\n",
      "m + sigma:  [164.72257060892937, 649.6303362794257, 70.32578892062676, 36.054539593436346, 630.7839254878661, 160.67955190797719, 135.08119460957278, 34.33506484663164, 230.00689533860356, 1520.787737551955, 43.00133726840241, 63.644820278872544, 55.73736622318765, 41.08404068565705, 156.2749495678385, 104.3362936209048, 79.89255237485527, 165.80095814325364, 38.737163292288905, 261.12491147795487]\n",
      "\n",
      "m + 2*sigma:  [279.83899042420796, 1122.1049185905974, 128.12578419045988, 59.70134109163459, 1045.0926525630339, 275.6418419111925, 224.9173495366059, 58.80505032818392, 390.38581448673096, 2621.404840183275, 73.26557136220164, 107.47118817679271, 92.22175625589911, 72.5976448633776, 279.3425578658357, 174.09024597196833, 135.2503825274883, 282.6396146992057, 67.352302775054, 473.66053724162407]\n"
     ]
    }
   ],
   "source": [
    "moyenne_per_club = []\n",
    "third_quartile_per_club = []\n",
    "mean_plus_sigma = []\n",
    "mean_plus_two_sigmas = []\n",
    "\n",
    "for club in list_clubs:\n",
    "    moyenne = data[club].mean()\n",
    "    moyenne_per_club.append(moyenne)\n",
    "    third_quartile_per_club.append(data[club].quantile(0.75))\n",
    "    mean_plus_sigma.append(moyenne + data[club].std())\n",
    "    mean_plus_two_sigmas.append(moyenne + 2*data[club].std())\n",
    "\n",
    "print(\"moyenne: \",moyenne_per_club)\n",
    "print(\"\\n3ème quartile: \",third_quartile_per_club)\n",
    "print(\"\\nm + sigma: \",mean_plus_sigma)\n",
    "print(\"\\nm + 2*sigma: \",mean_plus_two_sigmas)"
   ]
  },
  {
   "cell_type": "markdown",
   "metadata": {},
   "source": [
    "On associe le résultat à chaque club dans un dictionnaire"
   ]
  },
  {
   "cell_type": "code",
   "execution_count": 9,
   "metadata": {},
   "outputs": [
    {
     "data": {
      "text/plain": [
       "{'ASSEofficiel': 49.60615079365079,\n",
       " 'OL': 177.15575396825398,\n",
       " 'ClermontFoot': 12.52579365079365,\n",
       " 'MontpellierHSC': 12.407738095238095,\n",
       " 'OM_Officiel': 216.4751984126984,\n",
       " 'ogcnice': 45.717261904761905,\n",
       " 'AS_Monaco': 45.245039682539684,\n",
       " 'estac_officiel': 9.865079365079366,\n",
       " 'girondins': 69.62797619047619,\n",
       " 'psg_inside': 420.17063492063494,\n",
       " 'StadeDeReims': 12.737103174603174,\n",
       " 'FCMetz': 19.81845238095238,\n",
       " 'RCSA': 19.25297619047619,\n",
       " 'AngersSCO': 9.570436507936508,\n",
       " 'FCNantes': 33.20734126984127,\n",
       " 'staderennais': 34.58234126984127,\n",
       " 'RCLens': 24.53472222222222,\n",
       " 'losclive': 48.96230158730159,\n",
       " 'FCLorient': 10.12202380952381,\n",
       " 'SB29': 48.589285714285715}"
      ]
     },
     "execution_count": 9,
     "metadata": {},
     "output_type": "execute_result"
    }
   ],
   "source": [
    "dict_moy_per_club = dict(zip(list_clubs, moyenne_per_club))\n",
    "dict_moy_per_club"
   ]
  },
  {
   "cell_type": "code",
   "execution_count": 10,
   "metadata": {},
   "outputs": [
    {
     "data": {
      "text/plain": [
       "['ASSEofficiel',\n",
       " 'OL',\n",
       " 'ClermontFoot',\n",
       " 'MontpellierHSC',\n",
       " 'OM_Officiel',\n",
       " 'ogcnice',\n",
       " 'AS_Monaco',\n",
       " 'estac_officiel',\n",
       " 'girondins',\n",
       " 'psg_inside',\n",
       " 'StadeDeReims',\n",
       " 'FCMetz',\n",
       " 'RCSA',\n",
       " 'AngersSCO',\n",
       " 'FCNantes',\n",
       " 'staderennais',\n",
       " 'RCLens',\n",
       " 'losclive',\n",
       " 'FCLorient',\n",
       " 'SB29']"
      ]
     },
     "execution_count": 10,
     "metadata": {},
     "output_type": "execute_result"
    }
   ],
   "source": [
    "list_clubs"
   ]
  },
  {
   "cell_type": "markdown",
   "metadata": {},
   "source": [
    "On sélectionne ici les heures à laquelle le nombre de tweets pour une heure est supérieur au seuil que l'on a fixé"
   ]
  },
  {
   "cell_type": "code",
   "execution_count": 11,
   "metadata": {},
   "outputs": [],
   "source": [
    "def generate_information(list_input_dict, tweets_number,club, range, over_tweets):\n",
    "    if tweets_number > list_input_dict[club] :\n",
    "        information = [club, data['time'][range], tweets_number/list_input_dict[club]]\n",
    "        over_tweets.append(information)\n",
    "    \n",
    "\n",
    "def generate_information_seuil(list_input_dict, tweets_number,club,seuil, range, over_tweets):\n",
    "    if tweets_number > list_input_dict[club]*seuil :\n",
    "        information = [club, data['time'][range], tweets_number/list_input_dict[club]]\n",
    "        over_tweets.append(information)"
   ]
  },
  {
   "cell_type": "markdown",
   "metadata": {},
   "source": [
    "Génère les dictionnaires qui vont associer pour chaque club le type de statistiques"
   ]
  },
  {
   "cell_type": "code",
   "execution_count": 12,
   "metadata": {},
   "outputs": [],
   "source": [
    "#depending on the argument, will return the threshold of mean * x, 3rd quartile, m + sigma or m + 2*sigma\n",
    "\n",
    "def generate_over_tweets_seuil(seuil):  #if -3: third quartile;  if -2: m + sigma;    if if -1: m + 2*sigma;    else: mean*x\n",
    "    over_tweets = []\n",
    "    for club in list_clubs:\n",
    "        for i in range(0, data[club].shape[0]):\n",
    "            tweets_number = data[club][i]\n",
    "            if seuil == -3:\n",
    "                dict_third_quartile_per_club = dict(zip(list_clubs, third_quartile_per_club))\n",
    "                generate_information(dict_third_quartile_per_club, tweets_number,club, i, over_tweets)\n",
    "                '''\n",
    "                if tweets_number > dict_third_quartile_per_club[club] :\n",
    "                    information = [club, data['time'][i], tweets_number/dict_moy_per_club[club]]\n",
    "                    over_tweets.append(information)\n",
    "                '''\n",
    "            elif seuil == -2:\n",
    "                dict_mean_plus_sigma_per_club = dict(zip(list_clubs, mean_plus_sigma))\n",
    "                generate_information(dict_mean_plus_sigma_per_club, tweets_number,club, i, over_tweets)\n",
    "            elif seuil == -1:\n",
    "                dict_mean_plus_two_sigmas_per_club = dict(zip(list_clubs, mean_plus_two_sigmas))\n",
    "                generate_information(dict_mean_plus_two_sigmas_per_club, tweets_number,club, i, over_tweets)\n",
    "            else:\n",
    "                dict_moy_per_club = dict(zip(list_clubs, moyenne_per_club))\n",
    "                generate_information_seuil(dict_moy_per_club, tweets_number,club,seuil, i, over_tweets)\n",
    "    #print(len(over_tweets))\n",
    "    return over_tweets"
   ]
  },
  {
   "cell_type": "code",
   "execution_count": 1,
   "metadata": {},
   "outputs": [
    {
     "ename": "NameError",
     "evalue": "name 'generate_over_tweets_seuil' is not defined",
     "output_type": "error",
     "traceback": [
      "\u001b[1;31m---------------------------------------------------------------------------\u001b[0m",
      "\u001b[1;31mNameError\u001b[0m                                 Traceback (most recent call last)",
      "\u001b[1;32m~\\AppData\\Local\\Temp/ipykernel_16504/3552961552.py\u001b[0m in \u001b[0;36m<module>\u001b[1;34m\u001b[0m\n\u001b[1;32m----> 1\u001b[1;33m \u001b[0mgenerate_over_tweets_seuil\u001b[0m\u001b[1;33m(\u001b[0m\u001b[1;33m-\u001b[0m\u001b[1;36m1\u001b[0m\u001b[1;33m)\u001b[0m  \u001b[1;31m#exemple pour moyenne + 2 écart-types\u001b[0m\u001b[1;33m\u001b[0m\u001b[1;33m\u001b[0m\u001b[0m\n\u001b[0m",
      "\u001b[1;31mNameError\u001b[0m: name 'generate_over_tweets_seuil' is not defined"
     ]
    }
   ],
   "source": [
    "generate_over_tweets_seuil(-1)  #exemple pour moyenne + 2 écart-types"
   ]
  },
  {
   "cell_type": "markdown",
   "metadata": {},
   "source": [
    "Utilisation d'une nouvelle API qui référence les matchs pour une journée choisie (de 1 à 38), et donne par match les équipes et la date"
   ]
  },
  {
   "cell_type": "code",
   "execution_count": 14,
   "metadata": {},
   "outputs": [],
   "source": [
    "import http.client\n",
    "import json\n",
    "import pandas\n",
    "import numpy\n",
    "\n",
    "from datetime import *\n",
    "\n",
    "def get_matches(journee):\n",
    "  #journee = 25\n",
    "  connection = http.client.HTTPConnection('api.football-data.org')\n",
    "  headers = { 'X-Auth-Token': 'd244615bf85e4354860c825eee0b4c12' }\n",
    "  connection.request('GET', '/v2/competitions/FL1/matches?matchday='+str(journee), None, headers)\n",
    "  response = json.loads(connection.getresponse().read().decode())\n",
    "\n",
    "  Match=[]\n",
    "\n",
    "  for k in range(len(response[\"matches\"])):\n",
    "    date=response['matches'][k]['utcDate']\n",
    "    year=int(date[:4])\n",
    "    month=int(date[5:7])\n",
    "    day=int(date[8:10])\n",
    "    hour=int(date[11:13])+1\n",
    "    minute=int(date[14:16])\n",
    "    d1=response['matches'][k]['homeTeam']['name']\n",
    "    e1=response['matches'][k]['awayTeam']['name']\n",
    "    Match.append([d1,e1,year,month,day,hour,minute])\n",
    "\n",
    "    #print(response['matches'][k].keys())\n",
    "  ar = numpy.array(Match)\n",
    "  df = pandas.DataFrame(ar,columns=['Domicile','Extérieur','Année','Mois','Jour','Heure','Minute'])\n",
    "  return df\n"
   ]
  },
  {
   "cell_type": "code",
   "execution_count": 15,
   "metadata": {},
   "outputs": [],
   "source": [
    "df = get_matches(25)"
   ]
  },
  {
   "cell_type": "markdown",
   "metadata": {},
   "source": [
    "On veut un dictionnaire qui renvoie pour une équipe donnée le compte Twitter de cette équipe, car pour les matchs nous avons les équipes, donc nous souhaitons récupérer le compte Twitter ensuie"
   ]
  },
  {
   "cell_type": "code",
   "execution_count": 17,
   "metadata": {},
   "outputs": [
    {
     "data": {
      "text/plain": [
       "{'AS Saint-Étienne': 'ASSEofficiel',\n",
       " 'Olympique Lyonnais': 'OL',\n",
       " 'Clermont Foot 63': 'ClermontFoot',\n",
       " 'Montpellier HSC': 'MontpellierHSC',\n",
       " 'Olympique de Marseille': 'OM_Officiel',\n",
       " 'OGC Nice': 'ogcnice',\n",
       " 'AS Monaco FC': 'AS_Monaco',\n",
       " 'ES Troyes AC': 'estac_officiel',\n",
       " 'FC Girondins de Bordeaux': 'girondins',\n",
       " 'Paris Saint-Germain FC': 'psg_inside',\n",
       " 'Stade de Reims': 'StadeDeReims',\n",
       " 'FC Metz': 'FCMetz',\n",
       " 'RC Strasbourg Alsace': 'RCSA',\n",
       " 'Angers SCO': 'AngersSCO',\n",
       " 'FC Nantes': 'FCNantes',\n",
       " 'Stade Rennais FC 1901': 'staderennais',\n",
       " 'Racing Club de Lens': 'RCLens',\n",
       " 'Lille OSC': 'losclive',\n",
       " 'FC Lorient': 'FCLorient',\n",
       " 'Stade Brestois 29': 'SB29'}"
      ]
     },
     "execution_count": 17,
     "metadata": {},
     "output_type": "execute_result"
    }
   ],
   "source": [
    "##Matching between name of club and account\n",
    "clubs = open(\"list_clubs\" + \".txt\", 'r', encoding='utf-8')\n",
    "clubs_accounts = open(\"list_clubs_compte\" + \".txt\", 'r', encoding='utf-8')\n",
    "\n",
    "list_names_clubs = [club.strip()for club in clubs.readlines()]\n",
    "list_names_clubs_accounts = [club_account.strip() for club_account in clubs_accounts.readlines()]\n",
    "clubs.close()\n",
    "clubs_accounts.close()\n",
    "\n",
    "\n",
    "matching = dict(zip(list_names_clubs, list_names_clubs_accounts))\n",
    "matching"
   ]
  },
  {
   "cell_type": "markdown",
   "metadata": {},
   "source": [
    "On teste ensuite pour chaque match qui a lieu si nous avons réussi à identifier une forte activité sur Twitter des équipes concernéee, on regarde ainsi la proportion de matchs identifiés."
   ]
  },
  {
   "cell_type": "code",
   "execution_count": 18,
   "metadata": {},
   "outputs": [],
   "source": [
    "from datetime import *\n",
    "\n",
    "def matches_check(seuil):\n",
    "    ##Check if for matches there is more tweets\n",
    "    success = []\n",
    "    over_tweets = generate_over_tweets_seuil(seuil)\n",
    "    for i in range (0, df.shape[0]):\n",
    "        date = datetime(int(df.loc[i][2]), int(df.loc[i][3]), int(df.loc[i][4]), int(df.loc[i][5]))\n",
    "        date_transfo = datetime.strftime(date, \"%Y-%m-%d %H:%M:%S\")\n",
    "        j = 0\n",
    "        team_1_found = False\n",
    "        team_2_found = False\n",
    "        while j < len(over_tweets) and not (team_1_found and team_2_found):\n",
    "        #for element in over_tweets:\n",
    "            if (not team_1_found and over_tweets[j][0] == matching[df.loc[i][0]] and str(over_tweets[j][1])[0:10] == date_transfo[0:10]):    #if the tweet concerns the club which plays at domicile and the day corresponds\n",
    "                success.append(1)\n",
    "                team_1_found = True\n",
    "            else:\n",
    "                success.append(0)\n",
    "        #for element in over_tweets:\n",
    "            if (not team_2_found and over_tweets[j][0] == matching[df.loc[i][1]] and str(over_tweets[j][1])[0:10] == date_transfo[0:10]):    #if the tweet concerns the club which plays at domicile and the day corresponds\n",
    "                success.append(1)\n",
    "                team_2_found = True\n",
    "\n",
    "            else:\n",
    "                success.append(0)\n",
    "            j += 1\n",
    "\n",
    "    print(\"Seuil : \" + str(seuil) + \",    Matchs repérés : \" + str(sum(success)) + \",     Correspondance : \" + str(sum(success)/df.shape[0]*50) + \"% des matchs\")\n"
   ]
  },
  {
   "cell_type": "markdown",
   "metadata": {},
   "source": [
    "On vérifie l'identification des matchs en utilisant différents types de statistiques"
   ]
  },
  {
   "cell_type": "code",
   "execution_count": 19,
   "metadata": {},
   "outputs": [
    {
     "name": "stdout",
     "output_type": "stream",
     "text": [
      "Seuil : -3,    Matchs repérés : 20,     Correspondance : 100.0% des matchs\n",
      "Seuil : -2,    Matchs repérés : 20,     Correspondance : 100.0% des matchs\n",
      "Seuil : -1,    Matchs repérés : 18,     Correspondance : 90.0% des matchs\n",
      "Seuil : 0,    Matchs repérés : 20,     Correspondance : 100.0% des matchs\n",
      "Seuil : 1,    Matchs repérés : 20,     Correspondance : 100.0% des matchs\n",
      "Seuil : 5,    Matchs repérés : 20,     Correspondance : 100.0% des matchs\n",
      "Seuil : 10,    Matchs repérés : 13,     Correspondance : 65.0% des matchs\n",
      "Seuil : 20,    Matchs repérés : 2,     Correspondance : 10.0% des matchs\n",
      "Seuil : 25,    Matchs repérés : 2,     Correspondance : 10.0% des matchs\n",
      "Seuil : 30,    Matchs repérés : 2,     Correspondance : 10.0% des matchs\n"
     ]
    }
   ],
   "source": [
    "import numpy as np\n",
    "\n",
    "#if -3: third quartile;  if -2: m + sigma;    if if -1: m + 2*sigma;    else: mean*x\n",
    "values_seuil = list(np.arange(-3,2,1)) + [5,10,20,25,30]\n",
    "for value in values_seuil:\n",
    "    matches_check(value)"
   ]
  },
  {
   "cell_type": "markdown",
   "metadata": {},
   "source": [
    "Réalisation d'un autre procédé: trier les matchs par ordre de forte activité relative à un club"
   ]
  },
  {
   "cell_type": "markdown",
   "metadata": {},
   "source": [
    "On récupère le nombre de tweets maximum pour chaque club chaque jour où il joue un match"
   ]
  },
  {
   "cell_type": "code",
   "execution_count": 20,
   "metadata": {},
   "outputs": [],
   "source": [
    "import datetime\n",
    "\n",
    "#récupérer le nombre de tweets maximum pour chaque club le jour d'un match\n",
    "\n",
    "def get_maximum_tweets_match(list_clubs, data, df):\n",
    "    dict_max_tweets = {}\n",
    "    for i in range(0, df.shape[0]):    #pour chaque match de la semaine\n",
    "\n",
    "        date = datetime(int(df.loc[i][2]), int(df.loc[i][3]), int(df.loc[i][4]), int(df.loc[i][5]))\n",
    "        date_transfo = datetime.strftime(date, \"%Y-%m-%d %H:%M:%S\")    #on récupère la date du jour seulement\n",
    "        date_in_data = datetime.strftime(date, \"%Y-%m-%dT%H:%M:%S.%fZ\")\n",
    "        date_to_compare = date_in_data[0:-4] + 'Z'\n",
    "        #print(date_in_data[0:-4] + 'Z')\n",
    "\n",
    "        tweets_of_the_day = data[data['time_slots'] == date_to_compare]\n",
    "\n",
    "        team_1, team_2 = df.iloc[i][0], df.iloc[i][1]\n",
    "        max_tweets_team_1 = 0\n",
    "        max_tweets_team_2 = 0\n",
    "        for hour in range(0, tweets_of_the_day.shape[0]):\n",
    "            #print(tweets_of_the_day.loc[hour][team_1])\n",
    "            nb_tweets_1 = tweets_of_the_day.iloc[hour][matching[team_1]]\n",
    "            if nb_tweets_1> max_tweets_team_1:\n",
    "                max_tweets_team_1 = nb_tweets_1\n",
    "\n",
    "            nb_tweets_2 = tweets_of_the_day.iloc[hour][matching[team_2]]\n",
    "            if nb_tweets_2> max_tweets_team_2:\n",
    "                max_tweets_team_2 = nb_tweets_2\n",
    "        dict_max_tweets[matching[team_1]] =  max_tweets_team_1\n",
    "        dict_max_tweets[matching[team_2]] =  max_tweets_team_2\n",
    "    \n",
    "    return dict_max_tweets      "
   ]
  },
  {
   "cell_type": "code",
   "execution_count": 21,
   "metadata": {},
   "outputs": [],
   "source": [
    "#get_maximum_tweets_match(list_clubs, data, df)"
   ]
  },
  {
   "cell_type": "markdown",
   "metadata": {},
   "source": [
    "Ensuite le but est de voir à quelle valeur extrême ce nombre de tweets correspond. Par exemple, si il correspond à moyenne + 2*sigma, la valeur correspond à 5% des valeurs les plus hautes, si c'est moyenne + 3*sigma, alors c'est environ 1% des valeurs."
   ]
  },
  {
   "cell_type": "code",
   "execution_count": 22,
   "metadata": {},
   "outputs": [],
   "source": [
    "#retourne moyenne + x*écart-type\n",
    "def taux_sigma(data, club, x):\n",
    "    return data[club].mean() + x*data[club].std()"
   ]
  },
  {
   "cell_type": "markdown",
   "metadata": {},
   "source": [
    "On détermine ce x qui joue en moyenne + écart-type et qui définit, grâce à la fonction d'erreur, à quel pourcentage de valeur extrême cela correspond. On retourne un dictionnaire qui pour chaque club contient la valeur recherchée."
   ]
  },
  {
   "cell_type": "code",
   "execution_count": 23,
   "metadata": {},
   "outputs": [],
   "source": [
    "#donne le coefficient de taux sigma qui permet d'atteindre la valeur maximale de tweets\n",
    "#retourne un dictionnaire contentant cette valeur pour chaque club\n",
    "\n",
    "def define_range_nb_tweets(list_clubs, data, df):\n",
    "    maximums = get_maximum_tweets_match(list_clubs, data, df)\n",
    "    value_of_x = {}\n",
    "    for club in list_clubs:\n",
    "        x = 0\n",
    "        while taux_sigma(data, club, x) < maximums[club]:\n",
    "            x = round(x + 0.01, 2)\n",
    "        value_of_x[club] = x\n",
    "    return value_of_x\n",
    "        "
   ]
  },
  {
   "cell_type": "markdown",
   "metadata": {},
   "source": [
    "On trie le résultat par ordre décroissant pour avoir le classement des matchs les \"plus tendances\""
   ]
  },
  {
   "cell_type": "code",
   "execution_count": 76,
   "metadata": {},
   "outputs": [],
   "source": [
    "def result_club_sorted(list_clubs, data, df):\n",
    "    list_result = []\n",
    "    for k, v in sorted(define_range_nb_tweets(list_clubs, data, df).items(), key=lambda x: x[1], reverse=True):   #trie dictionnaire par ordre décroissant de x\n",
    "        list_result.append(\"%s\" % (k))\n",
    "    return list_result"
   ]
  },
  {
   "cell_type": "markdown",
   "metadata": {},
   "source": [
    "On peut tester tout l'algorithme sur une journée de match choisie, à condition que celle-ci a déjà eu lieu, sinon un message informant du contraire est renvoyé"
   ]
  },
  {
   "cell_type": "code",
   "execution_count": 91,
   "metadata": {},
   "outputs": [],
   "source": [
    "import time\n",
    "from datetime import *\n",
    "def rank_clubs_journee(journee):\n",
    "    if journee > 39:\n",
    "        return \"Cette journée de match n'existe pas\"\n",
    "    df = get_matches(journee)\n",
    "    date = datetime(int(df.iloc[-1][2]), int(df.iloc[-1][3]), int(df.iloc[-1][4]), int(df.iloc[-1][5]))\n",
    "    if date.strftime(\"%Y-%m-%d\") > datetime.now().strftime(\"%Y-%m-%d\"):\n",
    "        return (\"La journée de match sélectionnée n'a pas encore eu lieu, elle se déroulera le \" + date.strftime(\"%d-%m-%Y\"))\n",
    "    else:\n",
    "        return result_club_sorted(list_clubs, data, df)\n"
   ]
  },
  {
   "cell_type": "markdown",
   "metadata": {},
   "source": [
    "On peut également renvoyer le résultat sous la forme d'un dataframe (affichage dans un tableau)"
   ]
  },
  {
   "cell_type": "code",
   "execution_count": 117,
   "metadata": {},
   "outputs": [],
   "source": [
    "def return_in_list(journee):\n",
    "    list = []\n",
    "    if type(rank_clubs_journee(journee) == list):\n",
    "        for club in rank_clubs_journee(journee):\n",
    "            list.append(club)\n",
    "        new_df = pd.DataFrame(list)\n",
    "        new_df.index = new_df.index + 1\n",
    "        print(new_df)"
   ]
  },
  {
   "cell_type": "code",
   "execution_count": 118,
   "metadata": {},
   "outputs": [
    {
     "name": "stdout",
     "output_type": "stream",
     "text": [
      "                 0\n",
      "1         FCNantes\n",
      "2           FCMetz\n",
      "3     ClermontFoot\n",
      "4   estac_officiel\n",
      "5         losclive\n",
      "6     StadeDeReims\n",
      "7        AS_Monaco\n",
      "8     staderennais\n",
      "9   MontpellierHSC\n",
      "10       AngersSCO\n",
      "11       girondins\n",
      "12          RCLens\n",
      "13            RCSA\n",
      "14      psg_inside\n",
      "15     OM_Officiel\n",
      "16       FCLorient\n",
      "17    ASSEofficiel\n",
      "18            SB29\n",
      "19              OL\n",
      "20         ogcnice\n"
     ]
    }
   ],
   "source": [
    "return_in_list(25)"
   ]
  },
  {
   "cell_type": "code",
   "execution_count": 120,
   "metadata": {},
   "outputs": [
    {
     "data": {
      "text/plain": [
       "['staderennais',\n",
       " 'AS_Monaco',\n",
       " 'FCLorient',\n",
       " 'OL',\n",
       " 'estac_officiel',\n",
       " 'girondins',\n",
       " 'MontpellierHSC',\n",
       " 'AngersSCO',\n",
       " 'FCMetz',\n",
       " 'psg_inside',\n",
       " 'RCLens',\n",
       " 'RCSA',\n",
       " 'losclive',\n",
       " 'StadeDeReims',\n",
       " 'ClermontFoot',\n",
       " 'ogcnice',\n",
       " 'ASSEofficiel',\n",
       " 'FCNantes',\n",
       " 'OM_Officiel',\n",
       " 'SB29']"
      ]
     },
     "execution_count": 120,
     "metadata": {},
     "output_type": "execute_result"
    }
   ],
   "source": [
    "#fonction à éxecuter pour avoir le classement d'activité des clubs sur Twitter pour une journée donnée (journee < 39)\n",
    "\n",
    "rank_clubs_journee(28)"
   ]
  },
  {
   "cell_type": "code",
   "execution_count": 119,
   "metadata": {},
   "outputs": [],
   "source": [
    "def main():\n",
    "    return rank_clubs_journee(25)"
   ]
  },
  {
   "cell_type": "code",
   "execution_count": 121,
   "metadata": {},
   "outputs": [],
   "source": [
    "if __name__ == \"__main__\":\n",
    "    main()"
   ]
  }
 ],
 "metadata": {
  "interpreter": {
   "hash": "f7151bab42f25ae0ff0643f2c822bf1992f9070df947fb49a268d95bed80e712"
  },
  "kernelspec": {
   "display_name": "Python 3.7.8rc1 64-bit",
   "language": "python",
   "name": "python3"
  },
  "language_info": {
   "codemirror_mode": {
    "name": "ipython",
    "version": 3
   },
   "file_extension": ".py",
   "mimetype": "text/x-python",
   "name": "python",
   "nbconvert_exporter": "python",
   "pygments_lexer": "ipython3",
   "version": "3.7.8"
  },
  "orig_nbformat": 4
 },
 "nbformat": 4,
 "nbformat_minor": 2
}
